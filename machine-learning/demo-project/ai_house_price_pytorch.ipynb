{
 "cells": [
  {
   "cell_type": "markdown",
   "id": "3ecec890",
   "metadata": {},
   "source": [
    "\n",
    "# 🧪 Minimal ML Exercise with PyTorch: Predict House Price from Year\n",
    "\n",
    "This **tiny, end-to-end exercise** uses a **small dataset** of past years and house prices to train a **linear regression model** in **PyTorch**.  \n",
    "You’ll learn how to:\n",
    "1. Load a toy dataset (Year → Price)\n",
    "2. Visualize it\n",
    "3. Train a minimal `nn.Linear` model with MSE loss\n",
    "4. Predict price for a future year\n",
    "\n",
    "> Keep it simple. Run each cell top-to-bottom. Adjust the data or the learning rate to experiment.\n"
   ]
  },
  {
   "cell_type": "markdown",
   "id": "8d9dc48d",
   "metadata": {},
   "source": [
    "\n",
    "## 0) Setup\n",
    "If you don't have PyTorch locally, install it first (uncomment and run the below). On Colab, PyTorch is usually preinstalled.\n"
   ]
  },
  {
   "cell_type": "code",
   "execution_count": null,
   "id": "08eb5625",
   "metadata": {},
   "outputs": [],
   "source": [
    "\n",
    "# !pip install torch pandas matplotlib --quiet\n"
   ]
  },
  {
   "cell_type": "markdown",
   "id": "6e153f71",
   "metadata": {},
   "source": [
    "\n",
    "## 1) Imports\n"
   ]
  },
  {
   "cell_type": "code",
   "execution_count": null,
   "id": "aa8d2afb",
   "metadata": {},
   "outputs": [],
   "source": [
    "\n",
    "import torch\n",
    "import torch.nn as nn\n",
    "import torch.optim as optim\n",
    "\n",
    "import pandas as pd\n",
    "import numpy as np\n",
    "import matplotlib.pyplot as plt\n"
   ]
  },
  {
   "cell_type": "markdown",
   "id": "1211b849",
   "metadata": {},
   "source": [
    "\n",
    "## 2) Load a tiny dataset (Year, Price)\n",
    "The dataset is purposely small and simple. You can edit the table below or load from `house_prices.csv` if you downloaded it.\n"
   ]
  },
  {
   "cell_type": "code",
   "execution_count": null,
   "id": "46e4f584",
   "metadata": {},
   "outputs": [],
   "source": [
    "\n",
    "# Option A: Define inline (edit as you like)\n",
    "years = list(range(2015, 2025))  # 2015..2024\n",
    "prices = [220_000, 230_000, 235_000, 245_000, 250_000, 265_000, 290_000, 320_000, 340_000, 360_000]\n",
    "\n",
    "df = pd.DataFrame({\"Year\": years, \"Price\": prices})\n",
    "df\n"
   ]
  },
  {
   "cell_type": "code",
   "execution_count": null,
   "id": "51909922",
   "metadata": {},
   "outputs": [],
   "source": [
    "\n",
    "# Option B: Load from CSV (if available in your working directory)\n",
    "# import pandas as pd\n",
    "# df = pd.read_csv('house_prices.csv')\n",
    "# df.head()\n"
   ]
  },
  {
   "cell_type": "markdown",
   "id": "67d9553f",
   "metadata": {},
   "source": [
    "\n",
    "## 3) Visualize the data\n"
   ]
  },
  {
   "cell_type": "code",
   "execution_count": null,
   "id": "b19d1aee",
   "metadata": {},
   "outputs": [],
   "source": [
    "\n",
    "plt.figure()\n",
    "plt.scatter(df[\"Year\"], df[\"Price\"])\n",
    "plt.title(\"House Price vs. Year\")\n",
    "plt.xlabel(\"Year\")\n",
    "plt.ylabel(\"Price\")\n",
    "plt.show()\n"
   ]
  },
  {
   "cell_type": "markdown",
   "id": "76aff31d",
   "metadata": {},
   "source": [
    "\n",
    "## 4) Prepare tensors for PyTorch\n",
    "We’ll normalize the input `Year` for stability and scale `Price` to thousands.\n"
   ]
  },
  {
   "cell_type": "code",
   "execution_count": null,
   "id": "ccec4450",
   "metadata": {},
   "outputs": [],
   "source": [
    "\n",
    "# Convert to tensors\n",
    "X = torch.tensor(df[\"Year\"].values, dtype=torch.float32).view(-1, 1)\n",
    "y = torch.tensor(df[\"Price\"].values, dtype=torch.float32).view(-1, 1)\n",
    "\n",
    "# Normalize features (Year)\n",
    "X_mean = X.mean()\n",
    "X_std  = X.std()\n",
    "Xn = (X - X_mean) / X_std\n",
    "\n",
    "# Scale price to thousands to keep numbers smaller\n",
    "price_scale = 1000.0\n",
    "y_scaled = y / price_scale\n",
    "\n",
    "Xn, y_scaled\n"
   ]
  },
  {
   "cell_type": "markdown",
   "id": "0079a702",
   "metadata": {},
   "source": [
    "\n",
    "## 5) Define a minimal model\n",
    "A single linear layer is enough for this toy problem.\n"
   ]
  },
  {
   "cell_type": "code",
   "execution_count": null,
   "id": "921c5971",
   "metadata": {},
   "outputs": [],
   "source": [
    "\n",
    "model = nn.Linear(1, 1)  # y = w*x + b\n",
    "\n",
    "criterion = nn.MSELoss()\n",
    "optimizer = optim.SGD(model.parameters(), lr=0.1)  # try 0.01 if it overshoots\n"
   ]
  },
  {
   "cell_type": "markdown",
   "id": "06297989",
   "metadata": {},
   "source": [
    "\n",
    "## 6) Train the model\n"
   ]
  },
  {
   "cell_type": "code",
   "execution_count": null,
   "id": "4d69d79a",
   "metadata": {},
   "outputs": [],
   "source": [
    "\n",
    "losses = []\n",
    "epochs = 1000\n",
    "\n",
    "for epoch in range(epochs):\n",
    "    model.train()\n",
    "    optimizer.zero_grad()\n",
    "    preds = model(Xn)\n",
    "    loss = criterion(preds, y_scaled)\n",
    "    loss.backward()\n",
    "    optimizer.step()\n",
    "\n",
    "    losses.append(loss.item())\n",
    "    if (epoch+1) % 200 == 0:\n",
    "        print(f\"Epoch {epoch+1:4d} | Loss: {loss.item():.6f}\")\n"
   ]
  },
  {
   "cell_type": "markdown",
   "id": "241691b2",
   "metadata": {},
   "source": [
    "\n",
    "## 7) Check training loss\n"
   ]
  },
  {
   "cell_type": "code",
   "execution_count": null,
   "id": "565c0630",
   "metadata": {},
   "outputs": [],
   "source": [
    "\n",
    "plt.figure()\n",
    "plt.plot(losses)\n",
    "plt.title(\"Training Loss (MSE)\")\n",
    "plt.xlabel(\"Epoch\")\n",
    "plt.ylabel(\"Loss\")\n",
    "plt.show()\n"
   ]
  },
  {
   "cell_type": "markdown",
   "id": "10972d9c",
   "metadata": {},
   "source": [
    "\n",
    "## 8) Predict for any year\n",
    "Change `test_year` to see predictions. The model expects normalized input, so we use the same `X_mean` and `X_std` as training.\n"
   ]
  },
  {
   "cell_type": "code",
   "execution_count": null,
   "id": "dcf571ee",
   "metadata": {},
   "outputs": [],
   "source": [
    "\n",
    "def predict_price(year: int) -> float:\n",
    "    model.eval()\n",
    "    x = torch.tensor([[float(year)]], dtype=torch.float32)\n",
    "    x_norm = (x - X_mean) / X_std\n",
    "    with torch.no_grad():\n",
    "        pred_scaled = model(x_norm)\n",
    "    return float(pred_scaled.item() * price_scale)\n",
    "\n",
    "test_year = 2026\n",
    "print(f\"Predicted price for {test_year}: ${predict_price(test_year):,.0f}\")\n"
   ]
  },
  {
   "cell_type": "markdown",
   "id": "61e817a6",
   "metadata": {},
   "source": [
    "\n",
    "## 9) (Optional) Save the trained model\n"
   ]
  },
  {
   "cell_type": "code",
   "execution_count": null,
   "id": "39d6a6e3",
   "metadata": {},
   "outputs": [],
   "source": [
    "\n",
    "torch.save(\n",
    "    {\n",
    "        \"model_state_dict\": model.state_dict(),\n",
    "        \"X_mean\": X_mean.item(),\n",
    "        \"X_std\": X_std.item(),\n",
    "        \"price_scale\": price_scale,\n",
    "    },\n",
    "    \"house_price_model.pth\",\n",
    ")\n",
    "print(\"Saved to house_price_model.pth\")\n"
   ]
  },
  {
   "cell_type": "markdown",
   "id": "ca1a6094",
   "metadata": {},
   "source": [
    "\n",
    "## 10) (Optional) Load and reuse the model later\n"
   ]
  },
  {
   "cell_type": "code",
   "execution_count": null,
   "id": "8e83643b",
   "metadata": {},
   "outputs": [],
   "source": [
    "\n",
    "checkpoint = torch.load(\"house_price_model.pth\", map_location=\"cpu\")\n",
    "model_loaded = nn.Linear(1, 1)\n",
    "model_loaded.load_state_dict(checkpoint[\"model_state_dict\"])\n",
    "\n",
    "X_mean_loaded = torch.tensor(checkpoint[\"X_mean\"])\n",
    "X_std_loaded  = torch.tensor(checkpoint[\"X_std\"])\n",
    "price_scale_loaded = checkpoint[\"price_scale\"]\n",
    "\n",
    "def predict_with_loaded(year: int) -> float:\n",
    "    model_loaded.eval()\n",
    "    x = torch.tensor([[float(year)]], dtype=torch.float32)\n",
    "    x_norm = (x - X_mean_loaded) / X_std_loaded\n",
    "    with torch.no_grad():\n",
    "        pred_scaled = model_loaded(x_norm)\n",
    "    return float(pred_scaled.item() * price_scale_loaded)\n",
    "\n",
    "print(\"Reloaded model prediction for 2026:\", f\"${predict_with_loaded(2026):,.0f}\")\n"
   ]
  },
  {
   "cell_type": "markdown",
   "id": "3ac933f0",
   "metadata": {},
   "source": [
    "\n",
    "---\n",
    "\n",
    "### ✅ What you learned\n",
    "- A minimal **PyTorch** regression pipeline end-to-end\n",
    "- Normalization, scaling, training loop, loss tracking\n",
    "- Making predictions for arbitrary inputs\n",
    "\n",
    "> Try: Change the dataset, adjust the learning rate, or extend the model with `nn.Sequential` and non-linear layers.\n"
   ]
  }
 ],
 "metadata": {},
 "nbformat": 4,
 "nbformat_minor": 5
}
